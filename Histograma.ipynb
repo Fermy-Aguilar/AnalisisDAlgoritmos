{
  "nbformat": 4,
  "nbformat_minor": 0,
  "metadata": {
    "colab": {
      "name": "Histograma",
      "provenance": []
    },
    "kernelspec": {
      "name": "python3",
      "display_name": "Python 3"
    }
  },
  "cells": [
    {
      "cell_type": "code",
      "metadata": {
        "colab": {
          "base_uri": "https://localhost:8080/",
          "height": 281
        },
        "id": "gAdDckwLMEI9",
        "outputId": "3abbab2d-871d-451b-baa6-22a94e4df377"
      },
      "source": [
        "from matplotlib.pyplot import title, hist, show\n",
        "from numpy.random import normal\n",
        "numeros_gaussianos = normal(size = 1000)\n",
        "hist(numeros_gaussianos)\n",
        "title('Histograma')\n",
        "show()"
      ],
      "execution_count": 1,
      "outputs": [
        {
          "output_type": "display_data",
          "data": {
            "image/png": "[encoded data removed]",
            "text/plain": [
              "<Figure size 432x288 with 1 Axes>"
            ]
          },
          "metadata": {
            "tags": [],
            "needs_background": "light"
          }
        }
      ]
    }
  ]
}